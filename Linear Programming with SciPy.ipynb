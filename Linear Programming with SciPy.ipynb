{
 "cells": [
  {
   "cell_type": "markdown",
   "id": "marine-military",
   "metadata": {},
   "source": [
    "# Linear Programming with SciPy (Scientific Python)\n",
    "\n",
    "Let us look at the following linear programming problem:\n",
    "$$\n",
    "\\begin{equation}\n",
    "\\begin{array}\n",
    "\\displaystyle \\max_{x_1,x_2} & c_1 \\cdot x_1 + c_2 \\cdot x_2  \\\\\n",
    "\\textrm{s.t.}                & a_{11} \\cdot x_1 + a_{12} \\cdot x_2 \\leq b_1 \\\\\n",
    "                             & a_{21} \\cdot x_1 + a_{22} \\cdot x_2 \\leq b_2 \\\\\n",
    "                             & a_{31} \\cdot x_1 + a_{32} \\cdot x_2 \\leq b_3 \\\\\n",
    "                             & a_{41} \\cdot x_1 + a_{42} \\cdot x_2 = b_4 \\\\\n",
    "                             & x_1 \\geq 0, x_2 \\geq 0 \\\\\n",
    "\\end{array}\n",
    "\\end{equation}\n",
    "$$\n",
    "\n",
    "With numbers the problem looks as follows:\n",
    "\n",
    "$$\n",
    "\\begin{equation}\n",
    "\\begin{array}\n",
    "\\displaystyle \\max_{x_1,x_2} & 1.0 \\cdot x_1 + 2.0 \\cdot x_2  \\\\\n",
    "\\textrm{s.t.}                & 2.0 \\cdot x_1 + 1.0 \\cdot x_2 \\leq 20 \\\\\n",
    "                             & -4.0 \\cdot x_1 + 5.0 \\cdot x_2 \\leq 10 \\\\\n",
    "                             & 1.0 \\cdot x_1 + -2.0 \\cdot x_2 \\leq 2 \\\\\n",
    "                             & -1.0 \\cdot x_1 + 5.0 \\cdot x_2 = 15 \\\\\n",
    "                             & x_1 \\geq 0, x_2 \\geq 0 \\\\\n",
    "\\end{array}\n",
    "\\end{equation}\n",
    "$$\n",
    "\n",
    "In what follows, we will solve this problem by applying the **SciPy** (Scientific Python) package.\n",
    "One of the sub-packages in SciPy is **optimize** where you can find different methods for optimization (non-linear, linear, least-squares fitting, root finding, etc.)\n",
    "We will here use the **linprog** function that provides functionality to solve linear programs.\n",
    "\n",
    "Let's get started: First we have to import the SciPy package. If you do not have installed this package alreaddy you can run the folllowing code directly from your Jupyter notebook: `! pip install scipy`"
   ]
  },
  {
   "cell_type": "code",
   "execution_count": 2,
   "id": "lesbian-venezuela",
   "metadata": {},
   "outputs": [],
   "source": [
    "from scipy.optimize import linprog"
   ]
  },
  {
   "cell_type": "markdown",
   "id": "inappropriate-passenger",
   "metadata": {},
   "source": [
    "### Objective function coefficients\n",
    "\n",
    "The linprog function is minimizing. Since, we have a maximization problem, we have to multiply the objective function with with -1."
   ]
  },
  {
   "cell_type": "code",
   "execution_count": 3,
   "id": "expired-pickup",
   "metadata": {},
   "outputs": [],
   "source": [
    "obj = [-1, -2]"
   ]
  },
  {
   "cell_type": "markdown",
   "id": "victorian-croatia",
   "metadata": {},
   "source": [
    "### Left-hend side coefficients of the inequality constraints\n",
    "The inequality constraints to be specified in linprog are of type \"$ \\leq $\"."
   ]
  },
  {
   "cell_type": "code",
   "execution_count": 4,
   "id": "verbal-individual",
   "metadata": {},
   "outputs": [],
   "source": [
    "lhs_ineq = [[ 2,  1],  \n",
    "            [-4,  5], \n",
    "            [ 1, -2]]  "
   ]
  },
  {
   "cell_type": "markdown",
   "id": "placed-spirituality",
   "metadata": {},
   "source": [
    "### Right-hand side coefficients of inequality constraints"
   ]
  },
  {
   "cell_type": "code",
   "execution_count": 5,
   "id": "social-swimming",
   "metadata": {},
   "outputs": [],
   "source": [
    "rhs_ineq = [20,\n",
    "            10,\n",
    "             2] "
   ]
  },
  {
   "cell_type": "markdown",
   "id": "effective-comparative",
   "metadata": {},
   "source": [
    "### Left-hand side coefficients of equality constraints"
   ]
  },
  {
   "cell_type": "code",
   "execution_count": 6,
   "id": "ancient-dealing",
   "metadata": {},
   "outputs": [],
   "source": [
    "lhs_eq = [[-1, 5]]\n"
   ]
  },
  {
   "cell_type": "markdown",
   "id": "interesting-elite",
   "metadata": {},
   "source": [
    "### Right-hand side coefficients of equality constraints"
   ]
  },
  {
   "cell_type": "code",
   "execution_count": 7,
   "id": "noted-european",
   "metadata": {},
   "outputs": [],
   "source": [
    "rhs_eq = [15]"
   ]
  },
  {
   "cell_type": "markdown",
   "id": "referenced-deposit",
   "metadata": {},
   "source": [
    "### Bounds on variables"
   ]
  },
  {
   "cell_type": "code",
   "execution_count": 8,
   "id": "promotional-westminster",
   "metadata": {},
   "outputs": [],
   "source": [
    "bnd = [(0, float(\"inf\")),  # Bounds of x\n",
    "       (0, float(\"inf\"))]  # Bounds of y"
   ]
  },
  {
   "cell_type": "markdown",
   "id": "educated-halloween",
   "metadata": {},
   "source": [
    "Note: Instead of `float(\"inf\")`, you can use `math.inf`, `numpy.inf`, or `scipy.inf`."
   ]
  },
  {
   "cell_type": "markdown",
   "id": "statewide-render",
   "metadata": {},
   "source": [
    "### Solving the problem"
   ]
  },
  {
   "cell_type": "markdown",
   "id": "infinite-melbourne",
   "metadata": {},
   "source": [
    "There exist following solution algorithms:\n",
    "1. method=\"interior-point\" selects the interior-point method. This option is set by default.\n",
    "2. method=\"revised simplex\" selects the revised two-phase simplex method.\n",
    "2. method=\"simplex\" selects the legacy two-phase simplex method."
   ]
  },
  {
   "cell_type": "code",
   "execution_count": 9,
   "id": "endless-present",
   "metadata": {},
   "outputs": [],
   "source": [
    "result = linprog(c=obj, A_ub=lhs_ineq, b_ub=rhs_ineq,\n",
    "              A_eq=lhs_eq, b_eq=rhs_eq, bounds=bnd,\n",
    "              method=\"revised simplex\")"
   ]
  },
  {
   "cell_type": "code",
   "execution_count": 10,
   "id": "vietnamese-fountain",
   "metadata": {},
   "outputs": [
    {
     "data": {
      "text/plain": [
       "     con: array([0.])\n",
       "     fun: -16.818181818181817\n",
       " message: 'Optimization terminated successfully.'\n",
       "     nit: 3\n",
       "   slack: array([ 0.        , 18.18181818,  3.36363636])\n",
       "  status: 0\n",
       " success: True\n",
       "       x: array([7.72727273, 4.54545455])"
      ]
     },
     "execution_count": 10,
     "metadata": {},
     "output_type": "execute_result"
    }
   ],
   "source": [
    "result"
   ]
  },
  {
   "cell_type": "markdown",
   "id": "three-salvation",
   "metadata": {},
   "source": [
    "The output is as follows:\n",
    "- con is the equality constraints residuals.\n",
    "- fun is the objective function value at the optimum (if found).\n",
    "- message is the status of the solution.\n",
    "- nit is the number of iterations needed to finish the calculation.\n",
    "- slack is the values of the slack variables, or the differences between the values of the left and right sides of the constraints.\n",
    "- status is an integer between 0 and 4 that shows the status of the solution, such as 0 for when the optimal solution has been found.\n",
    "- success is a Boolean that shows whether the optimal solution has been found.\n",
    "- x is a NumPy array holding the optimal values of the decision variables."
   ]
  },
  {
   "cell_type": "code",
   "execution_count": 11,
   "id": "endless-glance",
   "metadata": {},
   "outputs": [
    {
     "data": {
      "text/plain": [
       "array([7.72727273, 4.54545455])"
      ]
     },
     "execution_count": 11,
     "metadata": {},
     "output_type": "execute_result"
    }
   ],
   "source": [
    "result.x"
   ]
  },
  {
   "cell_type": "markdown",
   "id": "academic-blend",
   "metadata": {},
   "source": [
    "**The End**"
   ]
  }
 ],
 "metadata": {
  "kernelspec": {
   "display_name": "Python 3",
   "language": "python",
   "name": "python3"
  },
  "language_info": {
   "codemirror_mode": {
    "name": "ipython",
    "version": 3
   },
   "file_extension": ".py",
   "mimetype": "text/x-python",
   "name": "python",
   "nbconvert_exporter": "python",
   "pygments_lexer": "ipython3",
   "version": "3.9.2"
  }
 },
 "nbformat": 4,
 "nbformat_minor": 5
}
